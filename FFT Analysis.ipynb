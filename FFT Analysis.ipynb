{
 "cells": [
  {
   "cell_type": "markdown",
   "metadata": {},
   "source": [
    "### Trying to apply in a meaningful way the FFT to some distributions"
   ]
  },
  {
   "cell_type": "markdown",
   "metadata": {},
   "source": [
    "I first need to create a set of distribution"
   ]
  },
  {
   "cell_type": "code",
   "execution_count": 16,
   "metadata": {},
   "outputs": [
    {
     "data": {
      "image/png": "[encoded data removed]",
      "text/plain": [
       "<Figure size 432x288 with 1 Axes>"
      ]
     },
     "metadata": {
      "needs_background": "light"
     },
     "output_type": "display_data"
    }
   ],
   "source": [
    "import numpy as np\n",
    "import scipy.stats as stats\n",
    "import scipy.signal as signal\n",
    "import matplotlib.pyplot as plt\n",
    "import math\n",
    "\n",
    "def gradients(n, b_min, b_max):\n",
    "    return np.arange(b_min, b_max, (b_max - b_min)/n)\n",
    "\n",
    "b_s = gradients(2, 0.8, 3.2)\n",
    "r_min = 1\n",
    "r_max = 500\n",
    "r = np.arange(r_min, r_max, 0.1)\n",
    "values = [[stats.pareto.cdf(n, b) for n in r] for b in b_s]\n",
    "for val in values:\n",
    "    plt.plot(r, val)\n",
    "    \n",
    "plt.show()"
   ]
  },
  {
   "cell_type": "code",
   "execution_count": 8,
   "metadata": {},
   "outputs": [
    {
     "name": "stdout",
     "output_type": "stream",
     "text": [
      "451104519.4026532\n"
     ]
    }
   ],
   "source": [
    "t = [stats.pareto.rvs(b, size=10000) for b in b_s]\n",
    "u = t[0]\n",
    "for v in t[1:]:\n",
    "    u += v\n",
    "print(max(u))"
   ]
  },
  {
   "cell_type": "code",
   "execution_count": 9,
   "metadata": {},
   "outputs": [
    {
     "data": {
      "image/png": "[encoded data removed]",
      "text/plain": [
       "<Figure size 432x288 with 1 Axes>"
      ]
     },
     "metadata": {
      "needs_background": "light"
     },
     "output_type": "display_data"
    }
   ],
   "source": [
    "plt.hist(u, bins= 100, range = (r_min, r_max))\n",
    "plt.show()"
   ]
  },
  {
   "cell_type": "code",
   "execution_count": 14,
   "metadata": {},
   "outputs": [
    {
     "name": "stdout",
     "output_type": "stream",
     "text": [
      "0.9552171648590608\n"
     ]
    },
    {
     "data": {
      "image/png": "[encoded data removed]",
      "text/plain": [
       "<Figure size 576x288 with 1 Axes>"
      ]
     },
     "metadata": {
      "needs_background": "light"
     },
     "output_type": "display_data"
    }
   ],
   "source": [
    "c = [[(stats.pareto.cdf(x+(r[1] - r[0]), b) - stats.pareto.cdf(x, b)) for x in r] for b in b_s]\n",
    "\n",
    "def extend(vec, vec_2):\n",
    "    for e in vec_2:\n",
    "        np.append(vec, e)\n",
    "    return vec\n",
    "\n",
    "def normalize(distribution):\n",
    "    tot = sum(distribution)\n",
    "    print(tot)\n",
    "    return distribution / tot\n",
    "\n",
    "def convolve_distributions(*distributions):\n",
    "    a = distributions[0]\n",
    "    for d in distributions[1:]:\n",
    "        extend(a, np.zeros(len(a)))\n",
    "        d.extend(np.zeros(len(a)))\n",
    "        convolution = signal.fftconvolve(a, d)[:len(a)]\n",
    "        a = normalize(convolution)\n",
    "    return a\n",
    "    \n",
    "cv = convolve_distributions(*c)\n",
    "    \n",
    "fig = plt.figure(figsize=(8, 4))\n",
    "ax  = fig.add_subplot(111)\n",
    "\n",
    "myHist = ax.hist(u, 200, density=True, range = (r_min\n",
    "                                                , r_max))\n",
    "    \n",
    "#   print(cv)\n",
    "plt.plot(r + len(b_s) - 1, cv*10)\n",
    "plt.show()"
   ]
  },
  {
   "cell_type": "code",
   "execution_count": null,
   "metadata": {},
   "outputs": [],
   "source": [
    "np.convolve([5,6,7,8], [1,2,3,4])"
   ]
  },
  {
   "cell_type": "code",
   "execution_count": 22,
   "metadata": {},
   "outputs": [
    {
     "name": "stdout",
     "output_type": "stream",
     "text": [
      "187.8279410038923\n",
      "432.94850537622517\n",
      "569.0169943749468\n",
      "810.9371380449171\n",
      "1339.5739742362457\n",
      "3172.2776601683754\n",
      "7531.206186172778\n",
      "56244.13251903484\n"
     ]
    }
   ],
   "source": [
    "pp = [0.9, 0.95, 0.96, 0.97, 0.98, 0.99, 0.995, 0.999]\n",
    "for p in pp:\n",
    "    print(stats.pareto.ppf(p, 0.8, 10, 10))"
   ]
  },
  {
   "cell_type": "code",
   "execution_count": null,
   "metadata": {},
   "outputs": [],
   "source": []
  }
 ],
 "metadata": {
  "kernelspec": {
   "display_name": "Python 3",
   "language": "python",
   "name": "python3"
  },
  "language_info": {
   "codemirror_mode": {
    "name": "ipython",
    "version": 3
   },
   "file_extension": ".py",
   "mimetype": "text/x-python",
   "name": "python",
   "nbconvert_exporter": "python",
   "pygments_lexer": "ipython3",
   "version": "3.7.3"
  }
 },
 "nbformat": 4,
 "nbformat_minor": 2
}
